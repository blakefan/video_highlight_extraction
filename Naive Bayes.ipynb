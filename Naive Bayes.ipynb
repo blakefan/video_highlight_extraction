{
 "cells": [
  {
   "cell_type": "code",
   "execution_count": 1,
   "metadata": {},
   "outputs": [],
   "source": [
    "import subprocess\n",
    "import os\n",
    "import scipy.io.wavfile as wav\n",
    "import IPython\n",
    "import matplotlib.pyplot as plt\n",
    "import numpy as np\n",
    "from moviepy.video.io.ffmpeg_tools import ffmpeg_extract_subclip\n",
    "%matplotlib inline"
   ]
  },
  {
   "cell_type": "code",
   "execution_count": 2,
   "metadata": {},
   "outputs": [],
   "source": [
    "ffmpeg_path = 'D:/Work/UpWork/Nicholas_Video/ffmpeg/bin/ffmpeg.exe'\n",
    "wav_path = 'D:/Work/UpWork/Nicholas_Video/Wav'\n",
    "raw_videos_path = 'D:/Work/UpWork/Nicholas_Video/RAW'\n",
    "highlight_path = 'D:/Work/UpWork/Nicholas_Video/Highlights'"
   ]
  },
  {
   "cell_type": "code",
   "execution_count": 3,
   "metadata": {},
   "outputs": [],
   "source": [
    "file_list = [f for f in os.listdir(raw_videos_path)]"
   ]
  },
  {
   "cell_type": "code",
   "execution_count": 4,
   "metadata": {},
   "outputs": [],
   "source": [
    "command = [[ffmpeg_path,'-i', file, wav_path+'/'+os.path.splitext(file)[0]+'.wav'] for file in file_list]"
   ]
  },
  {
   "cell_type": "code",
   "execution_count": 5,
   "metadata": {},
   "outputs": [],
   "source": [
    "for cmd in command:\n",
    "    #Remove old wav files\n",
    "    try:\n",
    "        os.remove(wav_path+'/'+os.path.splitext(cmd[2])[0]+'.wav')  \n",
    "    except OSError:\n",
    "        pass\n",
    "    process = subprocess.run(cmd, cwd=raw_videos_path)"
   ]
  },
  {
   "cell_type": "code",
   "execution_count": 6,
   "metadata": {},
   "outputs": [],
   "source": [
    "wav_file_list = [w for w in os.listdir(wav_path) if w.endswith('.wav')]"
   ]
  },
  {
   "cell_type": "code",
   "execution_count": 7,
   "metadata": {},
   "outputs": [],
   "source": [
    "def running_mean_same(x, N):\n",
    "    cumsum = np.cumsum(np.hstack((np.zeros(int(N/2)),x,np.zeros(int(N/2))))) \n",
    "    return (cumsum[N:] - cumsum[:-N]) / N"
   ]
  },
  {
   "cell_type": "code",
   "execution_count": 8,
   "metadata": {},
   "outputs": [],
   "source": [
    "def subsample(array, step):\n",
    "    ssarray = array[::step].copy()\n",
    "    return ssarray"
   ]
  },
  {
   "cell_type": "code",
   "execution_count": 9,
   "metadata": {},
   "outputs": [],
   "source": [
    "def process_wav_files(wav_file_list):\n",
    "    wav_array = []\n",
    "    sample_rates = []\n",
    "    for index, file in enumerate(wav_file_list):\n",
    "        #Read wav file\n",
    "        sample_rate, data = wav.read(wav_path+'/'+file)\n",
    "        #Conver to mono channel\n",
    "        data = data.astype(np.int32)\n",
    "        data_mono = (data[:,0] + data[:,1])/2\n",
    "        wav_duration = len(data)/sample_rate\n",
    "        #window_length = window_slice * sample_rate\n",
    "        sample_rates.append(sample_rate)\n",
    "        wav_array.append(data_mono)\n",
    "        #moving_average = np.convolve(abs(data_mono), np.ones((window_length,))/window_length, mode='same')\n",
    "    return wav_array, sample_rates"
   ]
  },
  {
   "cell_type": "code",
   "execution_count": 10,
   "metadata": {},
   "outputs": [],
   "source": [
    "def find_moving_average(sampled_data_array, sampling_rate_array, window_length, sampling_factor):\n",
    "    moving_average = []\n",
    "    for index, array in enumerate(sampled_data_array):\n",
    "        wslice = int(window_length * sampling_rate_array[index]/sampling_factor)\n",
    "        moving_average.append(running_mean_same(abs(sampled_data_array[index]), wslice))\n",
    "    return moving_average"
   ]
  },
  {
   "cell_type": "code",
   "execution_count": 11,
   "metadata": {},
   "outputs": [],
   "source": [
    "def find_energy(moving_average_list):\n",
    "    energy = []\n",
    "    for array in moving_average_list:\n",
    "        energy.append(np.square(array))\n",
    "    return energy"
   ]
  },
  {
   "cell_type": "code",
   "execution_count": 12,
   "metadata": {},
   "outputs": [],
   "source": [
    "def plot_amp_vs_time(data, threshold):\n",
    "    fig = plt.figure(figsize=(14, 10))\n",
    "    ax1 = fig.add_subplot(211)\n",
    "    plt.axhline(threshold, color=\"gray\")\n",
    "    ax1.set_xlabel('time')\n",
    "    ax1.set_ylabel('Amplitude')\n",
    "    ax1.plot(data)"
   ]
  },
  {
   "cell_type": "code",
   "execution_count": 13,
   "metadata": {},
   "outputs": [],
   "source": [
    "def find_highlight_times(array, threshold, sample_rate):\n",
    "    chunks = []\n",
    "    for i in range(len(array)-1):\n",
    "        if (array[i]<threshold<array[i+1] or array[i]>threshold>array[i+1]):\n",
    "            chunks.append((i*SAMPLING_FACTOR/sample_rate))\n",
    "    return chunks"
   ]
  },
  {
   "cell_type": "code",
   "execution_count": 14,
   "metadata": {},
   "outputs": [],
   "source": [
    "def plot_histogram(histogram):\n",
    "    bins = histogram[1]\n",
    "    hist = histogram[0]\n",
    "    center = (bins[:-1] + bins[1:]) / 2\n",
    "    width = 0.7 * (bins[1] - bins[0])\n",
    "    plt.bar(center, hist, align='center', width=width)\n",
    "    plt.show()"
   ]
  },
  {
   "cell_type": "code",
   "execution_count": 15,
   "metadata": {},
   "outputs": [],
   "source": [
    "wav_array, sample_rates = process_wav_files(wav_file_list)"
   ]
  },
  {
   "cell_type": "code",
   "execution_count": 31,
   "metadata": {},
   "outputs": [],
   "source": [
    "SAMPLING_FACTOR = 4\n",
    "WINDOW_LENGTH = 8\n",
    "sampled_array = []\n",
    "for array in wav_array:\n",
    "    sampled_array.append(subsample(array, SAMPLING_FACTOR))\n",
    "    moving_average = find_moving_average(sampled_array, sample_rates, WINDOW_LENGTH, SAMPLING_FACTOR)\n",
    "    energy = find_energy(moving_average)"
   ]
  },
  {
   "cell_type": "code",
   "execution_count": 32,
   "metadata": {},
   "outputs": [],
   "source": [
    "histograms = []\n",
    "thresholds = []\n",
    "for index, array in enumerate(energy):\n",
    "    hist, bins = np.histogram(array)\n",
    "    histograms.append((hist, bins))\n",
    "    thresholds.append(bins[-7])"
   ]
  },
  {
   "cell_type": "code",
   "execution_count": 33,
   "metadata": {},
   "outputs": [
    {
     "data": {
      "image/png": "[encoded data removed]",
      "text/plain": [
       "<Figure size 432x288 with 1 Axes>"
      ]
     },
     "metadata": {
      "needs_background": "light"
     },
     "output_type": "display_data"
    }
   ],
   "source": [
    "plot_histogram(histograms[1])"
   ]
  },
  {
   "cell_type": "code",
   "execution_count": 34,
   "metadata": {},
   "outputs": [
    {
     "data": {
      "image/png": "[encoded data removed]",
      "text/plain": [
       "<Figure size 1008x720 with 1 Axes>"
      ]
     },
     "metadata": {
      "needs_background": "light"
     },
     "output_type": "display_data"
    }
   ],
   "source": [
    "plot_amp_vs_time(energy[1], thresholds[1])"
   ]
  },
  {
   "cell_type": "code",
   "execution_count": 35,
   "metadata": {},
   "outputs": [],
   "source": [
    "times = find_highlight_times(energy[1], thresholds[1], sample_rates[1])"
   ]
  },
  {
   "cell_type": "code",
   "execution_count": 36,
   "metadata": {},
   "outputs": [],
   "source": [
    "chunk_list = []\n",
    "total_highlight_time = 0\n",
    "for index in range(0, len(times),2):\n",
    "    difference = times[index+1]-times[index]\n",
    "    if (difference > 4):\n",
    "        chunk_list.append([times[index], times[index+1]])\n",
    "        total_highlight_time = total_highlight_time + difference"
   ]
  },
  {
   "cell_type": "code",
   "execution_count": 37,
   "metadata": {},
   "outputs": [
    {
     "data": {
      "text/plain": [
       "([[42.392916666666665, 56.00208333333333],\n",
       "  [62.431333333333335, 69.31808333333333],\n",
       "  [75.229, 85.74766666666666],\n",
       "  [86.081, 99.90391666666666],\n",
       "  [111.11566666666667, 115.5115],\n",
       "  [126.15933333333334, 149.38991666666666],\n",
       "  [174.09133333333332, 195.67133333333334],\n",
       "  [196.39516666666665, 205.02866666666668],\n",
       "  [509.6864166666667, 515.328],\n",
       "  [596.6785, 602.9068333333333],\n",
       "  [676.0689166666667, 682.1374166666667],\n",
       "  [730.2883333333333, 735.1794166666666],\n",
       "  [840.1181666666666, 845.695],\n",
       "  [900.2814166666667, 921.9483333333334],\n",
       "  [925.6963333333333, 932.7281666666667],\n",
       "  [939.958, 970.91625],\n",
       "  [1043.0329166666668, 1047.6694166666666],\n",
       "  [1060.6279166666666, 1071.885],\n",
       "  [1082.4123333333334, 1088.6315],\n",
       "  [1094.40475, 1102.7938333333334],\n",
       "  [1177.19975, 1228.1210833333334],\n",
       "  [1256.6834166666667, 1276.25875],\n",
       "  [1283.0383333333334, 1311.4583333333333],\n",
       "  [1389.9105833333333, 1395.9788333333333],\n",
       "  [1463.78725, 1490.7601666666667],\n",
       "  [1494.4985, 1533.0743333333332],\n",
       "  [1607.9069166666666, 1623.34625],\n",
       "  [1623.4875, 1631.73525],\n",
       "  [1644.1765833333334, 1690.964],\n",
       "  [1711.37725, 1734.0229166666666],\n",
       "  [1755.1220833333334, 1761.7133333333334],\n",
       "  [2166.9825, 2171.7853333333333],\n",
       "  [2249.01075, 2254.624083333333],\n",
       "  [2281.0381666666667, 2287.32225],\n",
       "  [2342.0214166666665, 2346.7359166666665],\n",
       "  [2361.89775, 2368.692666666667],\n",
       "  [2451.4076666666665, 2458.2204166666666],\n",
       "  [2490.1635, 2498.1361666666667],\n",
       "  [2514.642333333333, 2528.65125],\n",
       "  [2598.89725, 2619.8796666666667],\n",
       "  [2620.0545, 2631.2499166666666],\n",
       "  [2636.9685, 2645.067],\n",
       "  [2648.4313333333334, 2666.296333333333]],\n",
       " 606.6329999999992)"
      ]
     },
     "execution_count": 37,
     "metadata": {},
     "output_type": "execute_result"
    }
   ],
   "source": [
    "chunk_list, total_highlight_time"
   ]
  },
  {
   "cell_type": "code",
   "execution_count": 38,
   "metadata": {},
   "outputs": [
    {
     "data": {
      "text/plain": [
       "['before.mp4', 'WWE.205.Live.2020.01.03.480p.x264-mSD[eztv].mkv']"
      ]
     },
     "execution_count": 38,
     "metadata": {},
     "output_type": "execute_result"
    }
   ],
   "source": []
  },
  {
   "cell_type": "code",
   "execution_count": 60,
   "metadata": {},
   "outputs": [
    {
     "name": "stdout",
     "output_type": "stream",
     "text": [
      "\n",
      "[MoviePy] Running:\n",
      ">>> C:\\Users\\prate\\Anaconda2\\envs\\python36\\Library\\bin\\ffmpeg.exe -y -i D:/Work/UpWork/Nicholas_Video/RAW/WWE.205.Live.2020.01.03.480p.x264-mSD[eztv].mkv -ss 42.00 -t 14.00 -vcodec copy -acodec copy D:/Work/UpWork/Nicholas_Video/Highlights/_highlight_0.mkv\n",
      "... command successful.\n",
      "\n",
      "[MoviePy] Running:\n",
      ">>> C:\\Users\\prate\\Anaconda2\\envs\\python36\\Library\\bin\\ffmpeg.exe -y -i D:/Work/UpWork/Nicholas_Video/RAW/WWE.205.Live.2020.01.03.480p.x264-mSD[eztv].mkv -ss 62.00 -t 7.00 -vcodec copy -acodec copy D:/Work/UpWork/Nicholas_Video/Highlights/_highlight_1.mkv\n",
      "... command successful.\n",
      "\n",
      "[MoviePy] Running:\n",
      ">>> C:\\Users\\prate\\Anaconda2\\envs\\python36\\Library\\bin\\ffmpeg.exe -y -i D:/Work/UpWork/Nicholas_Video/RAW/WWE.205.Live.2020.01.03.480p.x264-mSD[eztv].mkv -ss 75.00 -t 10.00 -vcodec copy -acodec copy D:/Work/UpWork/Nicholas_Video/Highlights/_highlight_2.mkv\n",
      "... command successful.\n",
      "\n",
      "[MoviePy] Running:\n",
      ">>> C:\\Users\\prate\\Anaconda2\\envs\\python36\\Library\\bin\\ffmpeg.exe -y -i D:/Work/UpWork/Nicholas_Video/RAW/WWE.205.Live.2020.01.03.480p.x264-mSD[eztv].mkv -ss 86.00 -t 13.00 -vcodec copy -acodec copy D:/Work/UpWork/Nicholas_Video/Highlights/_highlight_3.mkv\n",
      "... command successful.\n",
      "\n",
      "[MoviePy] Running:\n",
      ">>> C:\\Users\\prate\\Anaconda2\\envs\\python36\\Library\\bin\\ffmpeg.exe -y -i D:/Work/UpWork/Nicholas_Video/RAW/WWE.205.Live.2020.01.03.480p.x264-mSD[eztv].mkv -ss 111.00 -t 4.00 -vcodec copy -acodec copy D:/Work/UpWork/Nicholas_Video/Highlights/_highlight_4.mkv\n",
      "... command successful.\n",
      "\n",
      "[MoviePy] Running:\n",
      ">>> C:\\Users\\prate\\Anaconda2\\envs\\python36\\Library\\bin\\ffmpeg.exe -y -i D:/Work/UpWork/Nicholas_Video/RAW/WWE.205.Live.2020.01.03.480p.x264-mSD[eztv].mkv -ss 126.00 -t 23.00 -vcodec copy -acodec copy D:/Work/UpWork/Nicholas_Video/Highlights/_highlight_5.mkv\n",
      "... command successful.\n",
      "\n",
      "[MoviePy] Running:\n",
      ">>> C:\\Users\\prate\\Anaconda2\\envs\\python36\\Library\\bin\\ffmpeg.exe -y -i D:/Work/UpWork/Nicholas_Video/RAW/WWE.205.Live.2020.01.03.480p.x264-mSD[eztv].mkv -ss 174.00 -t 21.00 -vcodec copy -acodec copy D:/Work/UpWork/Nicholas_Video/Highlights/_highlight_6.mkv\n",
      "... command successful.\n",
      "\n",
      "[MoviePy] Running:\n",
      ">>> C:\\Users\\prate\\Anaconda2\\envs\\python36\\Library\\bin\\ffmpeg.exe -y -i D:/Work/UpWork/Nicholas_Video/RAW/WWE.205.Live.2020.01.03.480p.x264-mSD[eztv].mkv -ss 196.00 -t 9.00 -vcodec copy -acodec copy D:/Work/UpWork/Nicholas_Video/Highlights/_highlight_7.mkv\n",
      "... command successful.\n",
      "\n",
      "[MoviePy] Running:\n",
      ">>> C:\\Users\\prate\\Anaconda2\\envs\\python36\\Library\\bin\\ffmpeg.exe -y -i D:/Work/UpWork/Nicholas_Video/RAW/WWE.205.Live.2020.01.03.480p.x264-mSD[eztv].mkv -ss 509.00 -t 6.00 -vcodec copy -acodec copy D:/Work/UpWork/Nicholas_Video/Highlights/_highlight_8.mkv\n",
      "... command successful.\n",
      "\n",
      "[MoviePy] Running:\n",
      ">>> C:\\Users\\prate\\Anaconda2\\envs\\python36\\Library\\bin\\ffmpeg.exe -y -i D:/Work/UpWork/Nicholas_Video/RAW/WWE.205.Live.2020.01.03.480p.x264-mSD[eztv].mkv -ss 596.00 -t 6.00 -vcodec copy -acodec copy D:/Work/UpWork/Nicholas_Video/Highlights/_highlight_9.mkv\n",
      "... command successful.\n",
      "\n",
      "[MoviePy] Running:\n",
      ">>> C:\\Users\\prate\\Anaconda2\\envs\\python36\\Library\\bin\\ffmpeg.exe -y -i D:/Work/UpWork/Nicholas_Video/RAW/WWE.205.Live.2020.01.03.480p.x264-mSD[eztv].mkv -ss 676.00 -t 6.00 -vcodec copy -acodec copy D:/Work/UpWork/Nicholas_Video/Highlights/_highlight_10.mkv\n",
      "... command successful.\n",
      "\n",
      "[MoviePy] Running:\n",
      ">>> C:\\Users\\prate\\Anaconda2\\envs\\python36\\Library\\bin\\ffmpeg.exe -y -i D:/Work/UpWork/Nicholas_Video/RAW/WWE.205.Live.2020.01.03.480p.x264-mSD[eztv].mkv -ss 730.00 -t 5.00 -vcodec copy -acodec copy D:/Work/UpWork/Nicholas_Video/Highlights/_highlight_11.mkv\n",
      "... command successful.\n",
      "\n",
      "[MoviePy] Running:\n",
      ">>> C:\\Users\\prate\\Anaconda2\\envs\\python36\\Library\\bin\\ffmpeg.exe -y -i D:/Work/UpWork/Nicholas_Video/RAW/WWE.205.Live.2020.01.03.480p.x264-mSD[eztv].mkv -ss 840.00 -t 5.00 -vcodec copy -acodec copy D:/Work/UpWork/Nicholas_Video/Highlights/_highlight_12.mkv\n",
      "... command successful.\n",
      "\n",
      "[MoviePy] Running:\n",
      ">>> C:\\Users\\prate\\Anaconda2\\envs\\python36\\Library\\bin\\ffmpeg.exe -y -i D:/Work/UpWork/Nicholas_Video/RAW/WWE.205.Live.2020.01.03.480p.x264-mSD[eztv].mkv -ss 900.00 -t 21.00 -vcodec copy -acodec copy D:/Work/UpWork/Nicholas_Video/Highlights/_highlight_13.mkv\n",
      "... command successful.\n",
      "\n",
      "[MoviePy] Running:\n",
      ">>> C:\\Users\\prate\\Anaconda2\\envs\\python36\\Library\\bin\\ffmpeg.exe -y -i D:/Work/UpWork/Nicholas_Video/RAW/WWE.205.Live.2020.01.03.480p.x264-mSD[eztv].mkv -ss 925.00 -t 7.00 -vcodec copy -acodec copy D:/Work/UpWork/Nicholas_Video/Highlights/_highlight_14.mkv\n",
      "... command successful.\n",
      "\n",
      "[MoviePy] Running:\n",
      ">>> C:\\Users\\prate\\Anaconda2\\envs\\python36\\Library\\bin\\ffmpeg.exe -y -i D:/Work/UpWork/Nicholas_Video/RAW/WWE.205.Live.2020.01.03.480p.x264-mSD[eztv].mkv -ss 939.00 -t 31.00 -vcodec copy -acodec copy D:/Work/UpWork/Nicholas_Video/Highlights/_highlight_15.mkv\n",
      "... command successful.\n",
      "\n",
      "[MoviePy] Running:\n",
      ">>> C:\\Users\\prate\\Anaconda2\\envs\\python36\\Library\\bin\\ffmpeg.exe -y -i D:/Work/UpWork/Nicholas_Video/RAW/WWE.205.Live.2020.01.03.480p.x264-mSD[eztv].mkv -ss 1043.00 -t 4.00 -vcodec copy -acodec copy D:/Work/UpWork/Nicholas_Video/Highlights/_highlight_16.mkv\n",
      "... command successful.\n",
      "\n",
      "[MoviePy] Running:\n",
      ">>> C:\\Users\\prate\\Anaconda2\\envs\\python36\\Library\\bin\\ffmpeg.exe -y -i D:/Work/UpWork/Nicholas_Video/RAW/WWE.205.Live.2020.01.03.480p.x264-mSD[eztv].mkv -ss 1060.00 -t 11.00 -vcodec copy -acodec copy D:/Work/UpWork/Nicholas_Video/Highlights/_highlight_17.mkv\n",
      "... command successful.\n",
      "\n",
      "[MoviePy] Running:\n",
      ">>> C:\\Users\\prate\\Anaconda2\\envs\\python36\\Library\\bin\\ffmpeg.exe -y -i D:/Work/UpWork/Nicholas_Video/RAW/WWE.205.Live.2020.01.03.480p.x264-mSD[eztv].mkv -ss 1082.00 -t 6.00 -vcodec copy -acodec copy D:/Work/UpWork/Nicholas_Video/Highlights/_highlight_18.mkv\n",
      "... command successful.\n",
      "\n",
      "[MoviePy] Running:\n",
      ">>> C:\\Users\\prate\\Anaconda2\\envs\\python36\\Library\\bin\\ffmpeg.exe -y -i D:/Work/UpWork/Nicholas_Video/RAW/WWE.205.Live.2020.01.03.480p.x264-mSD[eztv].mkv -ss 1094.00 -t 8.00 -vcodec copy -acodec copy D:/Work/UpWork/Nicholas_Video/Highlights/_highlight_19.mkv\n",
      "... command successful.\n",
      "\n",
      "[MoviePy] Running:\n",
      ">>> C:\\Users\\prate\\Anaconda2\\envs\\python36\\Library\\bin\\ffmpeg.exe -y -i D:/Work/UpWork/Nicholas_Video/RAW/WWE.205.Live.2020.01.03.480p.x264-mSD[eztv].mkv -ss 1177.00 -t 51.00 -vcodec copy -acodec copy D:/Work/UpWork/Nicholas_Video/Highlights/_highlight_20.mkv\n",
      "... command successful.\n",
      "\n",
      "[MoviePy] Running:\n",
      ">>> C:\\Users\\prate\\Anaconda2\\envs\\python36\\Library\\bin\\ffmpeg.exe -y -i D:/Work/UpWork/Nicholas_Video/RAW/WWE.205.Live.2020.01.03.480p.x264-mSD[eztv].mkv -ss 1256.00 -t 20.00 -vcodec copy -acodec copy D:/Work/UpWork/Nicholas_Video/Highlights/_highlight_21.mkv\n",
      "... command successful.\n",
      "\n",
      "[MoviePy] Running:\n",
      ">>> C:\\Users\\prate\\Anaconda2\\envs\\python36\\Library\\bin\\ffmpeg.exe -y -i D:/Work/UpWork/Nicholas_Video/RAW/WWE.205.Live.2020.01.03.480p.x264-mSD[eztv].mkv -ss 1283.00 -t 28.00 -vcodec copy -acodec copy D:/Work/UpWork/Nicholas_Video/Highlights/_highlight_22.mkv\n",
      "... command successful.\n",
      "\n",
      "[MoviePy] Running:\n",
      ">>> C:\\Users\\prate\\Anaconda2\\envs\\python36\\Library\\bin\\ffmpeg.exe -y -i D:/Work/UpWork/Nicholas_Video/RAW/WWE.205.Live.2020.01.03.480p.x264-mSD[eztv].mkv -ss 1389.00 -t 6.00 -vcodec copy -acodec copy D:/Work/UpWork/Nicholas_Video/Highlights/_highlight_23.mkv\n",
      "... command successful.\n",
      "\n",
      "[MoviePy] Running:\n",
      ">>> C:\\Users\\prate\\Anaconda2\\envs\\python36\\Library\\bin\\ffmpeg.exe -y -i D:/Work/UpWork/Nicholas_Video/RAW/WWE.205.Live.2020.01.03.480p.x264-mSD[eztv].mkv -ss 1463.00 -t 27.00 -vcodec copy -acodec copy D:/Work/UpWork/Nicholas_Video/Highlights/_highlight_24.mkv\n",
      "... command successful.\n",
      "\n",
      "[MoviePy] Running:\n",
      ">>> C:\\Users\\prate\\Anaconda2\\envs\\python36\\Library\\bin\\ffmpeg.exe -y -i D:/Work/UpWork/Nicholas_Video/RAW/WWE.205.Live.2020.01.03.480p.x264-mSD[eztv].mkv -ss 1494.00 -t 39.00 -vcodec copy -acodec copy D:/Work/UpWork/Nicholas_Video/Highlights/_highlight_25.mkv\n",
      "... command successful.\n",
      "\n",
      "[MoviePy] Running:\n",
      ">>> C:\\Users\\prate\\Anaconda2\\envs\\python36\\Library\\bin\\ffmpeg.exe -y -i D:/Work/UpWork/Nicholas_Video/RAW/WWE.205.Live.2020.01.03.480p.x264-mSD[eztv].mkv -ss 1607.00 -t 16.00 -vcodec copy -acodec copy D:/Work/UpWork/Nicholas_Video/Highlights/_highlight_26.mkv\n",
      "... command successful.\n",
      "\n",
      "[MoviePy] Running:\n"
     ]
    },
    {
     "name": "stdout",
     "output_type": "stream",
     "text": [
      ">>> C:\\Users\\prate\\Anaconda2\\envs\\python36\\Library\\bin\\ffmpeg.exe -y -i D:/Work/UpWork/Nicholas_Video/RAW/WWE.205.Live.2020.01.03.480p.x264-mSD[eztv].mkv -ss 1623.00 -t 8.00 -vcodec copy -acodec copy D:/Work/UpWork/Nicholas_Video/Highlights/_highlight_27.mkv\n",
      "... command successful.\n",
      "\n",
      "[MoviePy] Running:\n",
      ">>> C:\\Users\\prate\\Anaconda2\\envs\\python36\\Library\\bin\\ffmpeg.exe -y -i D:/Work/UpWork/Nicholas_Video/RAW/WWE.205.Live.2020.01.03.480p.x264-mSD[eztv].mkv -ss 1644.00 -t 46.00 -vcodec copy -acodec copy D:/Work/UpWork/Nicholas_Video/Highlights/_highlight_28.mkv\n",
      "... command successful.\n",
      "\n",
      "[MoviePy] Running:\n",
      ">>> C:\\Users\\prate\\Anaconda2\\envs\\python36\\Library\\bin\\ffmpeg.exe -y -i D:/Work/UpWork/Nicholas_Video/RAW/WWE.205.Live.2020.01.03.480p.x264-mSD[eztv].mkv -ss 1711.00 -t 23.00 -vcodec copy -acodec copy D:/Work/UpWork/Nicholas_Video/Highlights/_highlight_29.mkv\n",
      "... command successful.\n",
      "\n",
      "[MoviePy] Running:\n",
      ">>> C:\\Users\\prate\\Anaconda2\\envs\\python36\\Library\\bin\\ffmpeg.exe -y -i D:/Work/UpWork/Nicholas_Video/RAW/WWE.205.Live.2020.01.03.480p.x264-mSD[eztv].mkv -ss 1755.00 -t 6.00 -vcodec copy -acodec copy D:/Work/UpWork/Nicholas_Video/Highlights/_highlight_30.mkv\n",
      "... command successful.\n",
      "\n",
      "[MoviePy] Running:\n",
      ">>> C:\\Users\\prate\\Anaconda2\\envs\\python36\\Library\\bin\\ffmpeg.exe -y -i D:/Work/UpWork/Nicholas_Video/RAW/WWE.205.Live.2020.01.03.480p.x264-mSD[eztv].mkv -ss 2166.00 -t 5.00 -vcodec copy -acodec copy D:/Work/UpWork/Nicholas_Video/Highlights/_highlight_31.mkv\n",
      "... command successful.\n",
      "\n",
      "[MoviePy] Running:\n",
      ">>> C:\\Users\\prate\\Anaconda2\\envs\\python36\\Library\\bin\\ffmpeg.exe -y -i D:/Work/UpWork/Nicholas_Video/RAW/WWE.205.Live.2020.01.03.480p.x264-mSD[eztv].mkv -ss 2249.00 -t 5.00 -vcodec copy -acodec copy D:/Work/UpWork/Nicholas_Video/Highlights/_highlight_32.mkv\n",
      "... command successful.\n",
      "\n",
      "[MoviePy] Running:\n",
      ">>> C:\\Users\\prate\\Anaconda2\\envs\\python36\\Library\\bin\\ffmpeg.exe -y -i D:/Work/UpWork/Nicholas_Video/RAW/WWE.205.Live.2020.01.03.480p.x264-mSD[eztv].mkv -ss 2281.00 -t 6.00 -vcodec copy -acodec copy D:/Work/UpWork/Nicholas_Video/Highlights/_highlight_33.mkv\n",
      "... command successful.\n",
      "\n",
      "[MoviePy] Running:\n",
      ">>> C:\\Users\\prate\\Anaconda2\\envs\\python36\\Library\\bin\\ffmpeg.exe -y -i D:/Work/UpWork/Nicholas_Video/RAW/WWE.205.Live.2020.01.03.480p.x264-mSD[eztv].mkv -ss 2342.00 -t 4.00 -vcodec copy -acodec copy D:/Work/UpWork/Nicholas_Video/Highlights/_highlight_34.mkv\n",
      "... command successful.\n",
      "\n",
      "[MoviePy] Running:\n",
      ">>> C:\\Users\\prate\\Anaconda2\\envs\\python36\\Library\\bin\\ffmpeg.exe -y -i D:/Work/UpWork/Nicholas_Video/RAW/WWE.205.Live.2020.01.03.480p.x264-mSD[eztv].mkv -ss 2361.00 -t 7.00 -vcodec copy -acodec copy D:/Work/UpWork/Nicholas_Video/Highlights/_highlight_35.mkv\n",
      "... command successful.\n",
      "\n",
      "[MoviePy] Running:\n",
      ">>> C:\\Users\\prate\\Anaconda2\\envs\\python36\\Library\\bin\\ffmpeg.exe -y -i D:/Work/UpWork/Nicholas_Video/RAW/WWE.205.Live.2020.01.03.480p.x264-mSD[eztv].mkv -ss 2451.00 -t 7.00 -vcodec copy -acodec copy D:/Work/UpWork/Nicholas_Video/Highlights/_highlight_36.mkv\n",
      "... command successful.\n",
      "\n",
      "[MoviePy] Running:\n",
      ">>> C:\\Users\\prate\\Anaconda2\\envs\\python36\\Library\\bin\\ffmpeg.exe -y -i D:/Work/UpWork/Nicholas_Video/RAW/WWE.205.Live.2020.01.03.480p.x264-mSD[eztv].mkv -ss 2490.00 -t 8.00 -vcodec copy -acodec copy D:/Work/UpWork/Nicholas_Video/Highlights/_highlight_37.mkv\n",
      "... command successful.\n",
      "\n",
      "[MoviePy] Running:\n",
      ">>> C:\\Users\\prate\\Anaconda2\\envs\\python36\\Library\\bin\\ffmpeg.exe -y -i D:/Work/UpWork/Nicholas_Video/RAW/WWE.205.Live.2020.01.03.480p.x264-mSD[eztv].mkv -ss 2514.00 -t 14.00 -vcodec copy -acodec copy D:/Work/UpWork/Nicholas_Video/Highlights/_highlight_38.mkv\n",
      "... command successful.\n",
      "\n",
      "[MoviePy] Running:\n",
      ">>> C:\\Users\\prate\\Anaconda2\\envs\\python36\\Library\\bin\\ffmpeg.exe -y -i D:/Work/UpWork/Nicholas_Video/RAW/WWE.205.Live.2020.01.03.480p.x264-mSD[eztv].mkv -ss 2598.00 -t 21.00 -vcodec copy -acodec copy D:/Work/UpWork/Nicholas_Video/Highlights/_highlight_39.mkv\n",
      "... command successful.\n",
      "\n",
      "[MoviePy] Running:\n",
      ">>> C:\\Users\\prate\\Anaconda2\\envs\\python36\\Library\\bin\\ffmpeg.exe -y -i D:/Work/UpWork/Nicholas_Video/RAW/WWE.205.Live.2020.01.03.480p.x264-mSD[eztv].mkv -ss 2620.00 -t 11.00 -vcodec copy -acodec copy D:/Work/UpWork/Nicholas_Video/Highlights/_highlight_40.mkv\n",
      "... command successful.\n",
      "\n",
      "[MoviePy] Running:\n",
      ">>> C:\\Users\\prate\\Anaconda2\\envs\\python36\\Library\\bin\\ffmpeg.exe -y -i D:/Work/UpWork/Nicholas_Video/RAW/WWE.205.Live.2020.01.03.480p.x264-mSD[eztv].mkv -ss 2636.00 -t 9.00 -vcodec copy -acodec copy D:/Work/UpWork/Nicholas_Video/Highlights/_highlight_41.mkv\n",
      "... command successful.\n",
      "\n",
      "[MoviePy] Running:\n",
      ">>> C:\\Users\\prate\\Anaconda2\\envs\\python36\\Library\\bin\\ffmpeg.exe -y -i D:/Work/UpWork/Nicholas_Video/RAW/WWE.205.Live.2020.01.03.480p.x264-mSD[eztv].mkv -ss 2648.00 -t 18.00 -vcodec copy -acodec copy D:/Work/UpWork/Nicholas_Video/Highlights/_highlight_42.mkv\n",
      "... command successful.\n"
     ]
    }
   ],
   "source": [
    "file = open(highlight_path+'/highlight_file.txt','w') \n",
    "for index, chunk in enumerate(chunk_list):\n",
    "    file.write('file '+'\\''+highlight_path+'/'+'_highlight_'+str(index)+'.mkv'+'\\''+'\\n')\n",
    "    ffmpeg_extract_subclip(raw_videos_path+'/'+file_list[1], int(chunk[0]), int(chunk[1]), targetname=highlight_path+'/'+'_highlight_'+str(index)+'.mkv')\n",
    "file.close()"
   ]
  },
  {
   "cell_type": "code",
   "execution_count": 58,
   "metadata": {},
   "outputs": [],
   "source": [
    "combine_videos_cmd = \"ffmpeg -f concat -safe 0 -i highlight_file.txt -c copy highlight.mkv\""
   ]
  },
  {
   "cell_type": "code",
   "execution_count": 59,
   "metadata": {},
   "outputs": [],
   "source": [
    "process = subprocess.run(combine_videos_cmd, cwd=highlight_path)"
   ]
  },
  {
   "cell_type": "code",
   "execution_count": null,
   "metadata": {},
   "outputs": [],
   "source": []
  }
 ],
 "metadata": {
  "kernelspec": {
   "display_name": "Python 3",
   "language": "python",
   "name": "python3"
  },
  "language_info": {
   "codemirror_mode": {
    "name": "ipython",
    "version": 3
   },
   "file_extension": ".py",
   "mimetype": "text/x-python",
   "name": "python",
   "nbconvert_exporter": "python",
   "pygments_lexer": "ipython3",
   "version": "3.6.9"
  }
 },
 "nbformat": 4,
 "nbformat_minor": 2
}
