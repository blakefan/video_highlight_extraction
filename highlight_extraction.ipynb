{
 "cells": [
  {
   "cell_type": "code",
   "execution_count": 35,
   "metadata": {},
   "outputs": [],
   "source": [
    "import subprocess\n",
    "import os\n",
    "import scipy.io.wavfile as wav\n",
    "import IPython\n",
    "import matplotlib.pyplot as plt\n",
    "import numpy as np\n",
    "from moviepy.video.io.ffmpeg_tools import ffmpeg_extract_subclip\n",
    "%matplotlib inline"
   ]
  },
  {
   "cell_type": "code",
   "execution_count": 2,
   "metadata": {},
   "outputs": [],
   "source": [
    "ffmpeg_path = 'D:/Work/UpWork/Nicholas_Video/ffmpeg/bin/ffmpeg.exe'\n",
    "raw_videos_path = 'D:/Work/UpWork/Nicholas_Video/RAW'\n",
    "highlight_path = 'D:/Work/UpWork/Nicholas_Video/Highlights'"
   ]
  },
  {
   "cell_type": "code",
   "execution_count": 3,
   "metadata": {},
   "outputs": [],
   "source": [
    "file_list = [f for f in os.listdir(raw_videos_path) if f.endswith('.mp4')]"
   ]
  },
  {
   "cell_type": "code",
   "execution_count": 4,
   "metadata": {},
   "outputs": [],
   "source": [
    "command = [[ffmpeg_path,'-i', file, os.path.splitext(file)[0]+'.wav'] for file in file_list]"
   ]
  },
  {
   "cell_type": "code",
   "execution_count": 5,
   "metadata": {},
   "outputs": [],
   "source": [
    "for cmd in command:\n",
    "    #Remove old wav files\n",
    "    try:\n",
    "        os.remove(raw_videos_path+'/'+os.path.splitext(cmd[2])[0]+'.wav')  \n",
    "    except OSError:\n",
    "        pass\n",
    "    process = subprocess.run(cmd, cwd=raw_videos_path)"
   ]
  },
  {
   "cell_type": "code",
   "execution_count": 6,
   "metadata": {},
   "outputs": [],
   "source": [
    "wav_file_list = [w for w in os.listdir(raw_videos_path) if w.endswith('.wav')]"
   ]
  },
  {
   "cell_type": "code",
   "execution_count": 97,
   "metadata": {},
   "outputs": [
    {
     "name": "stdout",
     "output_type": "stream",
     "text": [
      "before - Copy (2).wav\n",
      "before - Copy (3).wav\n",
      "before - Copy (4).wav\n",
      "before - Copy (5).wav\n",
      "before - Copy.wav\n",
      "before.wav\n"
     ]
    }
   ],
   "source": [
    "for file in wav_file_list:\n",
    "    #Read wav file\n",
    "    sample_rate, data = wav.read(raw_videos_path+'/'+file)\n",
    "    #Conver to mono channel\n",
    "    data = data.astype(np.int32)\n",
    "    data_mono = (data[:,0] + data[:,1])/2\n",
    "    wav_duration = len(data)/sample_rate\n",
    "    max_slice=5\n",
    "    window_length = max_slice * sample_rate\n",
    "    moving_average = np.convolve(abs(data_mono), np.ones((window_length,))/window_length, mode='same')"
   ]
  },
  {
   "cell_type": "code",
   "execution_count": 115,
   "metadata": {},
   "outputs": [],
   "source": [
    "histogram, bins = np.histogram(moving_average)"
   ]
  },
  {
   "cell_type": "code",
   "execution_count": 116,
   "metadata": {},
   "outputs": [
    {
     "data": {
      "image/png": "[encoded data removed]",
      "text/plain": [
       "<Figure size 432x288 with 1 Axes>"
      ]
     },
     "metadata": {
      "needs_background": "light"
     },
     "output_type": "display_data"
    }
   ],
   "source": [
    "center = (bins[:-1] + bins[1:]) / 2\n",
    "width = 0.7 * (bins[1] - bins[0])\n",
    "plt.bar(center, histogram, align='center', width=width)\n",
    "plt.show()"
   ]
  },
  {
   "cell_type": "code",
   "execution_count": 118,
   "metadata": {},
   "outputs": [],
   "source": [
    "threshold = bins[-3]"
   ]
  },
  {
   "cell_type": "code",
   "execution_count": 119,
   "metadata": {},
   "outputs": [
    {
     "data": {
      "text/plain": [
       "[<matplotlib.lines.Line2D at 0x29c002c96d8>]"
      ]
     },
     "execution_count": 119,
     "metadata": {},
     "output_type": "execute_result"
    },
    {
     "data": {
      "image/png": "[encoded data removed]",
      "text/plain": [
       "<Figure size 1008x720 with 1 Axes>"
      ]
     },
     "metadata": {
      "needs_background": "light"
     },
     "output_type": "display_data"
    }
   ],
   "source": [
    "fig = plt.figure(figsize=(14, 10))\n",
    "ax1 = fig.add_subplot(211)\n",
    "plt.axhline(threshold, color=\"gray\")\n",
    "ax1.set_xlabel('time')\n",
    "ax1.set_ylabel('Amplitude')\n",
    "ax1.plot(moving_average)"
   ]
  },
  {
   "cell_type": "code",
   "execution_count": 90,
   "metadata": {},
   "outputs": [],
   "source": [
    "#boolean array to find intersection points\n",
    "index_finder = np.zeros(len(moving_average))\n",
    "#Set all the array elements greater than threshold = 1\n",
    "index_finder[np.where(moving_average>threshold)] = 1\n",
    "#Find points where the array flips\n",
    "start_end_array = np.where(index_finder[:-1] != index_finder[1:])[0]\n",
    "chunks = []\n",
    "#Create a tuple for all those points where the average crosses threshold\n",
    "for index in range(0,len(start_end_array),2):\n",
    "    chunks.append([np.floor(start_end_array[index]/sample_rate), np.ceil(start_end_array[index+1]/sample_rate)])"
   ]
  },
  {
   "cell_type": "code",
   "execution_count": 96,
   "metadata": {},
   "outputs": [
    {
     "name": "stdout",
     "output_type": "stream",
     "text": [
      "before - Copy (2).mp4\n",
      "before - Copy (3).mp4\n",
      "before - Copy (4).mp4\n",
      "before - Copy (5).mp4\n",
      "before - Copy.mp4\n",
      "before.mp4\n"
     ]
    }
   ],
   "source": [
    "for cmd in command:\n",
    "    print(cmd[2])"
   ]
  },
  {
   "cell_type": "code",
   "execution_count": 32,
   "metadata": {},
   "outputs": [
    {
     "name": "stdout",
     "output_type": "stream",
     "text": [
      "\n",
      "[MoviePy] Running:\n",
      ">>> C:\\Users\\prate\\Anaconda2\\envs\\python36\\Library\\bin\\ffmpeg.exe -y -i D:/Work/UpWork/Nicholas_Video/RAW/before - Copy (2).mp4 -ss 8.00 -t 9.00 -vcodec copy -acodec copy D:/Work/UpWork/Nicholas_Video/RAW/before - Copy (2)_highlight_.mp4\n",
      "... command successful.\n",
      "\n",
      "[MoviePy] Running:\n",
      ">>> C:\\Users\\prate\\Anaconda2\\envs\\python36\\Library\\bin\\ffmpeg.exe -y -i D:/Work/UpWork/Nicholas_Video/RAW/before - Copy (3).mp4 -ss 8.00 -t 9.00 -vcodec copy -acodec copy D:/Work/UpWork/Nicholas_Video/RAW/before - Copy (3)_highlight_.mp4\n",
      "... command successful.\n",
      "\n",
      "[MoviePy] Running:\n",
      ">>> C:\\Users\\prate\\Anaconda2\\envs\\python36\\Library\\bin\\ffmpeg.exe -y -i D:/Work/UpWork/Nicholas_Video/RAW/before - Copy (4).mp4 -ss 8.00 -t 9.00 -vcodec copy -acodec copy D:/Work/UpWork/Nicholas_Video/RAW/before - Copy (4)_highlight_.mp4\n",
      "... command successful.\n",
      "\n",
      "[MoviePy] Running:\n",
      ">>> C:\\Users\\prate\\Anaconda2\\envs\\python36\\Library\\bin\\ffmpeg.exe -y -i D:/Work/UpWork/Nicholas_Video/RAW/before - Copy (5).mp4 -ss 8.00 -t 9.00 -vcodec copy -acodec copy D:/Work/UpWork/Nicholas_Video/RAW/before - Copy (5)_highlight_.mp4\n",
      "... command successful.\n",
      "\n",
      "[MoviePy] Running:\n",
      ">>> C:\\Users\\prate\\Anaconda2\\envs\\python36\\Library\\bin\\ffmpeg.exe -y -i D:/Work/UpWork/Nicholas_Video/RAW/before - Copy.mp4 -ss 8.00 -t 9.00 -vcodec copy -acodec copy D:/Work/UpWork/Nicholas_Video/RAW/before - Copy_highlight_.mp4\n",
      "... command successful.\n",
      "\n",
      "[MoviePy] Running:\n",
      ">>> C:\\Users\\prate\\Anaconda2\\envs\\python36\\Library\\bin\\ffmpeg.exe -y -i D:/Work/UpWork/Nicholas_Video/RAW/before.mp4 -ss 8.00 -t 9.00 -vcodec copy -acodec copy D:/Work/UpWork/Nicholas_Video/RAW/before_highlight_.mp4\n",
      "... command successful.\n"
     ]
    }
   ],
   "source": [
    "for cmd in command:\n",
    "    #Remove old wav files\n",
    "    ffmpeg_extract_subclip(raw_videos_path+'/'+os.path.splitext(cmd[2])[0]+'.mp4', chunks[0][0], chunks[0][1], targetname=raw_videos_path+'/'+os.path.splitext(cmd[2])[0]+'_highlight_'+'.mp4')"
   ]
  },
  {
   "cell_type": "code",
   "execution_count": null,
   "metadata": {},
   "outputs": [],
   "source": []
  }
 ],
 "metadata": {
  "kernelspec": {
   "display_name": "Python 3",
   "language": "python",
   "name": "python3"
  },
  "language_info": {
   "codemirror_mode": {
    "name": "ipython",
    "version": 3
   },
   "file_extension": ".py",
   "mimetype": "text/x-python",
   "name": "python",
   "nbconvert_exporter": "python",
   "pygments_lexer": "ipython3",
   "version": "3.6.9"
  }
 },
 "nbformat": 4,
 "nbformat_minor": 2
}
