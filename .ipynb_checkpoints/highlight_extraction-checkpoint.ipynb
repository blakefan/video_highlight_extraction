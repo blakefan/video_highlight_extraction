{
 "cells": [
  {
   "cell_type": "code",
   "execution_count": 1,
   "metadata": {},
   "outputs": [],
   "source": [
    "import subprocess\n",
    "import os\n",
    "import ffmpeg"
   ]
  },
  {
   "cell_type": "code",
   "execution_count": 91,
   "metadata": {},
   "outputs": [],
   "source": [
    "ffmpeg_path = 'D:/Work/UpWork/Nicholas_Video/ffmpeg/bin/ffmpeg.exe'\n",
    "raw_videos_path = 'D:/Work/UpWork/Nicholas_Video/RAW'\n",
    "highlight_path = 'D:/Work/UpWork/Nicholas_Video/Highlights'"
   ]
  },
  {
   "cell_type": "code",
   "execution_count": 92,
   "metadata": {},
   "outputs": [],
   "source": [
    "file_list = [f for f in os.listdir(raw_videos_path) if f.endswith('.mp4')]"
   ]
  },
  {
   "cell_type": "code",
   "execution_count": 93,
   "metadata": {},
   "outputs": [],
   "source": [
    "command = [[ffmpeg_path,'-i', file, os.path.splitext(file)[0]+'.wav'] for file in file_list]"
   ]
  },
  {
   "cell_type": "code",
   "execution_count": 96,
   "metadata": {},
   "outputs": [],
   "source": [
    "for cmd in command:\n",
    "    #Remove old wav files\n",
    "    try:\n",
    "     os.remove(raw_videos_path+'/'+os.path.splitext(cmd[2])[0]+'.wav')  \n",
    "except OSError:\n",
    "    pass\n",
    "    \n",
    "    process = subprocess.run(cmd, cwd=raw_videos_path)"
   ]
  },
  {
   "cell_type": "code",
   "execution_count": 86,
   "metadata": {},
   "outputs": [
    {
     "name": "stdout",
     "output_type": "stream",
     "text": [
      "before.mp4\n"
     ]
    }
   ],
   "source": []
  },
  {
   "cell_type": "code",
   "execution_count": null,
   "metadata": {},
   "outputs": [],
   "source": []
  }
 ],
 "metadata": {
  "kernelspec": {
   "display_name": "Python 3",
   "language": "python",
   "name": "python3"
  },
  "language_info": {
   "codemirror_mode": {
    "name": "ipython",
    "version": 3
   },
   "file_extension": ".py",
   "mimetype": "text/x-python",
   "name": "python",
   "nbconvert_exporter": "python",
   "pygments_lexer": "ipython3",
   "version": "3.6.9"
  }
 },
 "nbformat": 4,
 "nbformat_minor": 2
}
